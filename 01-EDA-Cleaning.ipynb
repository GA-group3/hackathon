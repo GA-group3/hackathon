{
 "cells": [
  {
   "cell_type": "code",
   "execution_count": 1,
   "metadata": {},
   "outputs": [],
   "source": [
    "#Import libraries:\n",
    "import pandas as pd\n",
    "import seaborn as sns\n",
    "import matplotlib.pyplot as plt\n",
    "import numpy as np\n",
    "\n",
    "#Change DF display options to show more data\n",
    "pd.set_option('display.max_rows', 500)\n",
    "pd.set_option('display.max_columns', 500)\n",
    "pd.set_option('display.width', 1000)"
   ]
  },
  {
   "cell_type": "code",
   "execution_count": 2,
   "metadata": {},
   "outputs": [],
   "source": [
    "#Import the data (the Dominatrices team is only allowed to use 'cheap_train_sample'):\n",
    "\n",
    "df = pd.read_csv('./data/cheap_train_sample.csv')\n",
    "preds = pd.read_csv('./data/test_data.csv')"
   ]
  },
  {
   "cell_type": "code",
   "execution_count": 3,
   "metadata": {},
   "outputs": [
    {
     "data": {
      "text/html": [
       "<div>\n",
       "<style scoped>\n",
       "    .dataframe tbody tr th:only-of-type {\n",
       "        vertical-align: middle;\n",
       "    }\n",
       "\n",
       "    .dataframe tbody tr th {\n",
       "        vertical-align: top;\n",
       "    }\n",
       "\n",
       "    .dataframe thead th {\n",
       "        text-align: right;\n",
       "    }\n",
       "</style>\n",
       "<table border=\"1\" class=\"dataframe\">\n",
       "  <thead>\n",
       "    <tr style=\"text-align: right;\">\n",
       "      <th></th>\n",
       "      <th>age</th>\n",
       "      <th>workclass</th>\n",
       "      <th>fnlwgt</th>\n",
       "      <th>education</th>\n",
       "      <th>education-num</th>\n",
       "      <th>marital-status</th>\n",
       "      <th>occupation</th>\n",
       "      <th>relationship</th>\n",
       "      <th>sex</th>\n",
       "      <th>capital-gain</th>\n",
       "      <th>capital-loss</th>\n",
       "      <th>hours-per-week</th>\n",
       "      <th>native-country</th>\n",
       "      <th>wage</th>\n",
       "    </tr>\n",
       "  </thead>\n",
       "  <tbody>\n",
       "    <tr>\n",
       "      <th>0</th>\n",
       "      <td>56</td>\n",
       "      <td>Private</td>\n",
       "      <td>346033</td>\n",
       "      <td>9th</td>\n",
       "      <td>5</td>\n",
       "      <td>Divorced</td>\n",
       "      <td>Adm-clerical</td>\n",
       "      <td>Not-in-family</td>\n",
       "      <td>Male</td>\n",
       "      <td>0</td>\n",
       "      <td>0</td>\n",
       "      <td>40</td>\n",
       "      <td>United-States</td>\n",
       "      <td>&lt;=50K</td>\n",
       "    </tr>\n",
       "    <tr>\n",
       "      <th>1</th>\n",
       "      <td>28</td>\n",
       "      <td>Private</td>\n",
       "      <td>96226</td>\n",
       "      <td>HS-grad</td>\n",
       "      <td>9</td>\n",
       "      <td>Married-civ-spouse</td>\n",
       "      <td>Craft-repair</td>\n",
       "      <td>Husband</td>\n",
       "      <td>Male</td>\n",
       "      <td>0</td>\n",
       "      <td>0</td>\n",
       "      <td>45</td>\n",
       "      <td>United-States</td>\n",
       "      <td>&lt;=50K</td>\n",
       "    </tr>\n",
       "    <tr>\n",
       "      <th>2</th>\n",
       "      <td>33</td>\n",
       "      <td>Private</td>\n",
       "      <td>251120</td>\n",
       "      <td>Bachelors</td>\n",
       "      <td>13</td>\n",
       "      <td>Married-civ-spouse</td>\n",
       "      <td>Sales</td>\n",
       "      <td>Husband</td>\n",
       "      <td>Male</td>\n",
       "      <td>7688</td>\n",
       "      <td>0</td>\n",
       "      <td>50</td>\n",
       "      <td>United-States</td>\n",
       "      <td>&gt;50K</td>\n",
       "    </tr>\n",
       "    <tr>\n",
       "      <th>3</th>\n",
       "      <td>26</td>\n",
       "      <td>Private</td>\n",
       "      <td>178140</td>\n",
       "      <td>Bachelors</td>\n",
       "      <td>13</td>\n",
       "      <td>Married-civ-spouse</td>\n",
       "      <td>Other-service</td>\n",
       "      <td>Husband</td>\n",
       "      <td>Male</td>\n",
       "      <td>0</td>\n",
       "      <td>0</td>\n",
       "      <td>45</td>\n",
       "      <td>United-States</td>\n",
       "      <td>&gt;50K</td>\n",
       "    </tr>\n",
       "    <tr>\n",
       "      <th>4</th>\n",
       "      <td>40</td>\n",
       "      <td>Federal-gov</td>\n",
       "      <td>56795</td>\n",
       "      <td>Masters</td>\n",
       "      <td>14</td>\n",
       "      <td>Never-married</td>\n",
       "      <td>Exec-managerial</td>\n",
       "      <td>Not-in-family</td>\n",
       "      <td>Female</td>\n",
       "      <td>14084</td>\n",
       "      <td>0</td>\n",
       "      <td>55</td>\n",
       "      <td>United-States</td>\n",
       "      <td>&gt;50K</td>\n",
       "    </tr>\n",
       "  </tbody>\n",
       "</table>\n",
       "</div>"
      ],
      "text/plain": [
       "   age     workclass  fnlwgt   education  education-num       marital-status        occupation    relationship      sex  capital-gain  capital-loss  hours-per-week  native-country    wage\n",
       "0   56       Private  346033         9th              5             Divorced      Adm-clerical   Not-in-family     Male             0             0              40   United-States   <=50K\n",
       "1   28       Private   96226     HS-grad              9   Married-civ-spouse      Craft-repair         Husband     Male             0             0              45   United-States   <=50K\n",
       "2   33       Private  251120   Bachelors             13   Married-civ-spouse             Sales         Husband     Male          7688             0              50   United-States    >50K\n",
       "3   26       Private  178140   Bachelors             13   Married-civ-spouse     Other-service         Husband     Male             0             0              45   United-States    >50K\n",
       "4   40   Federal-gov   56795     Masters             14        Never-married   Exec-managerial   Not-in-family   Female         14084             0              55   United-States    >50K"
      ]
     },
     "execution_count": 3,
     "metadata": {},
     "output_type": "execute_result"
    }
   ],
   "source": [
    "df.head()"
   ]
  },
  {
   "cell_type": "code",
   "execution_count": 4,
   "metadata": {},
   "outputs": [
    {
     "data": {
      "text/plain": [
       "(6513, 14)"
      ]
     },
     "execution_count": 4,
     "metadata": {},
     "output_type": "execute_result"
    }
   ],
   "source": [
    "df.shape"
   ]
  },
  {
   "cell_type": "code",
   "execution_count": 5,
   "metadata": {},
   "outputs": [
    {
     "data": {
      "text/plain": [
       "<bound method DataFrame.info of       age     workclass  fnlwgt      education  education-num       marital-status        occupation    relationship      sex  capital-gain  capital-loss  hours-per-week  native-country    wage\n",
       "0      56       Private  346033            9th              5             Divorced      Adm-clerical   Not-in-family     Male             0             0              40   United-States   <=50K\n",
       "1      28       Private   96226        HS-grad              9   Married-civ-spouse      Craft-repair         Husband     Male             0             0              45   United-States   <=50K\n",
       "2      33       Private  251120      Bachelors             13   Married-civ-spouse             Sales         Husband     Male          7688             0              50   United-States    >50K\n",
       "3      26       Private  178140      Bachelors             13   Married-civ-spouse     Other-service         Husband     Male             0             0              45   United-States    >50K\n",
       "4      40   Federal-gov   56795        Masters             14        Never-married   Exec-managerial   Not-in-family   Female         14084             0              55   United-States    >50K\n",
       "...   ...           ...     ...            ...            ...                  ...               ...             ...      ...           ...           ...             ...             ...     ...\n",
       "6508   29       Private  198997        HS-grad              9   Married-civ-spouse      Adm-clerical            Wife   Female             0             0              20   United-States   <=50K\n",
       "6509   17       Private   46496           11th              7        Never-married     Other-service       Own-child     Male             0             0               5   United-States   <=50K\n",
       "6510   31     Local-gov  381153   Some-college             10   Married-civ-spouse   Protective-serv         Husband     Male         15024             0              56   United-States    >50K\n",
       "6511   35       Private  385412      Bachelors             13        Never-married      Adm-clerical   Not-in-family   Female             0             0              40   United-States   <=50K\n",
       "6512   40       Private  223277      Bachelors             13   Married-civ-spouse      Adm-clerical         Husband     Male             0             0              50   United-States    >50K\n",
       "\n",
       "[6513 rows x 14 columns]>"
      ]
     },
     "execution_count": 5,
     "metadata": {},
     "output_type": "execute_result"
    }
   ],
   "source": [
    "df.info"
   ]
  },
  {
   "cell_type": "code",
   "execution_count": 6,
   "metadata": {},
   "outputs": [
    {
     "data": {
      "text/plain": [
       "age               0\n",
       "workclass         0\n",
       "fnlwgt            0\n",
       "education         0\n",
       "education-num     0\n",
       "marital-status    0\n",
       "occupation        0\n",
       "relationship      0\n",
       "sex               0\n",
       "capital-gain      0\n",
       "capital-loss      0\n",
       "hours-per-week    0\n",
       "native-country    0\n",
       "wage              0\n",
       "dtype: int64"
      ]
     },
     "execution_count": 6,
     "metadata": {},
     "output_type": "execute_result"
    }
   ],
   "source": [
    "#Check for any null values:\n",
    "df.isnull().sum()"
   ]
  },
  {
   "cell_type": "code",
   "execution_count": 7,
   "metadata": {},
   "outputs": [
    {
     "data": {
      "text/plain": [
       "age                int64\n",
       "workclass         object\n",
       "fnlwgt             int64\n",
       "education         object\n",
       "education-num      int64\n",
       "marital-status    object\n",
       "occupation        object\n",
       "relationship      object\n",
       "sex               object\n",
       "capital-gain       int64\n",
       "capital-loss       int64\n",
       "hours-per-week     int64\n",
       "native-country    object\n",
       "wage              object\n",
       "dtype: object"
      ]
     },
     "execution_count": 7,
     "metadata": {},
     "output_type": "execute_result"
    }
   ],
   "source": [
    "#Check for datatypes\n",
    "df.dtypes"
   ]
  },
  {
   "cell_type": "code",
   "execution_count": 8,
   "metadata": {},
   "outputs": [
    {
     "data": {
      "text/html": [
       "<div>\n",
       "<style scoped>\n",
       "    .dataframe tbody tr th:only-of-type {\n",
       "        vertical-align: middle;\n",
       "    }\n",
       "\n",
       "    .dataframe tbody tr th {\n",
       "        vertical-align: top;\n",
       "    }\n",
       "\n",
       "    .dataframe thead th {\n",
       "        text-align: right;\n",
       "    }\n",
       "</style>\n",
       "<table border=\"1\" class=\"dataframe\">\n",
       "  <thead>\n",
       "    <tr style=\"text-align: right;\">\n",
       "      <th></th>\n",
       "      <th>age</th>\n",
       "      <th>fnlwgt</th>\n",
       "      <th>education-num</th>\n",
       "      <th>capital-gain</th>\n",
       "      <th>capital-loss</th>\n",
       "      <th>hours-per-week</th>\n",
       "    </tr>\n",
       "  </thead>\n",
       "  <tbody>\n",
       "    <tr>\n",
       "      <th>count</th>\n",
       "      <td>6513.000000</td>\n",
       "      <td>6.513000e+03</td>\n",
       "      <td>6513.000000</td>\n",
       "      <td>6513.000000</td>\n",
       "      <td>6513.000000</td>\n",
       "      <td>6513.000000</td>\n",
       "    </tr>\n",
       "    <tr>\n",
       "      <th>mean</th>\n",
       "      <td>38.529556</td>\n",
       "      <td>1.926640e+05</td>\n",
       "      <td>10.068478</td>\n",
       "      <td>1059.200829</td>\n",
       "      <td>92.108092</td>\n",
       "      <td>40.400891</td>\n",
       "    </tr>\n",
       "    <tr>\n",
       "      <th>std</th>\n",
       "      <td>13.684351</td>\n",
       "      <td>1.060173e+05</td>\n",
       "      <td>2.589238</td>\n",
       "      <td>7392.040587</td>\n",
       "      <td>413.710886</td>\n",
       "      <td>12.354685</td>\n",
       "    </tr>\n",
       "    <tr>\n",
       "      <th>min</th>\n",
       "      <td>17.000000</td>\n",
       "      <td>1.228500e+04</td>\n",
       "      <td>1.000000</td>\n",
       "      <td>0.000000</td>\n",
       "      <td>0.000000</td>\n",
       "      <td>1.000000</td>\n",
       "    </tr>\n",
       "    <tr>\n",
       "      <th>25%</th>\n",
       "      <td>27.000000</td>\n",
       "      <td>1.202380e+05</td>\n",
       "      <td>9.000000</td>\n",
       "      <td>0.000000</td>\n",
       "      <td>0.000000</td>\n",
       "      <td>40.000000</td>\n",
       "    </tr>\n",
       "    <tr>\n",
       "      <th>50%</th>\n",
       "      <td>37.000000</td>\n",
       "      <td>1.815760e+05</td>\n",
       "      <td>10.000000</td>\n",
       "      <td>0.000000</td>\n",
       "      <td>0.000000</td>\n",
       "      <td>40.000000</td>\n",
       "    </tr>\n",
       "    <tr>\n",
       "      <th>75%</th>\n",
       "      <td>48.000000</td>\n",
       "      <td>2.417530e+05</td>\n",
       "      <td>13.000000</td>\n",
       "      <td>0.000000</td>\n",
       "      <td>0.000000</td>\n",
       "      <td>45.000000</td>\n",
       "    </tr>\n",
       "    <tr>\n",
       "      <th>max</th>\n",
       "      <td>90.000000</td>\n",
       "      <td>1.366120e+06</td>\n",
       "      <td>16.000000</td>\n",
       "      <td>99999.000000</td>\n",
       "      <td>4356.000000</td>\n",
       "      <td>99.000000</td>\n",
       "    </tr>\n",
       "  </tbody>\n",
       "</table>\n",
       "</div>"
      ],
      "text/plain": [
       "               age        fnlwgt  education-num  capital-gain  capital-loss  hours-per-week\n",
       "count  6513.000000  6.513000e+03    6513.000000   6513.000000   6513.000000     6513.000000\n",
       "mean     38.529556  1.926640e+05      10.068478   1059.200829     92.108092       40.400891\n",
       "std      13.684351  1.060173e+05       2.589238   7392.040587    413.710886       12.354685\n",
       "min      17.000000  1.228500e+04       1.000000      0.000000      0.000000        1.000000\n",
       "25%      27.000000  1.202380e+05       9.000000      0.000000      0.000000       40.000000\n",
       "50%      37.000000  1.815760e+05      10.000000      0.000000      0.000000       40.000000\n",
       "75%      48.000000  2.417530e+05      13.000000      0.000000      0.000000       45.000000\n",
       "max      90.000000  1.366120e+06      16.000000  99999.000000   4356.000000       99.000000"
      ]
     },
     "execution_count": 8,
     "metadata": {},
     "output_type": "execute_result"
    }
   ],
   "source": [
    "#Overview of the dataset with mean/STD values:\n",
    "df.describe()"
   ]
  },
  {
   "cell_type": "code",
   "execution_count": 9,
   "metadata": {},
   "outputs": [
    {
     "data": {
      "text/plain": [
       "0    4945\n",
       "1    1568\n",
       "Name: wage, dtype: int64"
      ]
     },
     "execution_count": 9,
     "metadata": {},
     "output_type": "execute_result"
    }
   ],
   "source": [
    "#We are predicting whether a person will make more than $50k, or less than $50k\n",
    "#Let's start with assigning boolean values to the \"wage\" column where 0 is less than 50k, and 1 is more than 50k\n",
    "#This will make our data much easier to work with rather than having large, 5-digit numbers:\n",
    "\n",
    "df['wage'] = df['wage'].map({' <=50K' : 0, ' >50K' : 1})\n",
    "df['wage'].value_counts()"
   ]
  },
  {
   "cell_type": "code",
   "execution_count": 10,
   "metadata": {},
   "outputs": [],
   "source": [
    "#To get a better understanding of the various datatypes in this data, we'll divide our columns into two distinct groups:\n",
    "#Continuous data and categorical data\n",
    "#Data that is continuous: capital-loss, capital-gain, education-num, fnlwgt, age\n",
    "\n",
    "cont_col = ['age', 'education-num', 'capital-gain', 'capital-loss', 'fnlwgt']"
   ]
  },
  {
   "cell_type": "code",
   "execution_count": 11,
   "metadata": {},
   "outputs": [
    {
     "data": {
      "image/png": "[encoded data removed]",
      "text/plain": [
       "<Figure size 432x288 with 1 Axes>"
      ]
     },
     "metadata": {
      "needs_background": "light"
     },
     "output_type": "display_data"
    },
    {
     "data": {
      "image/png": "[encoded data removed]",
      "text/plain": [
       "<Figure size 432x288 with 1 Axes>"
      ]
     },
     "metadata": {
      "needs_background": "light"
     },
     "output_type": "display_data"
    },
    {
     "data": {
      "image/png": "[encoded data removed]",
      "text/plain": [
       "<Figure size 432x288 with 1 Axes>"
      ]
     },
     "metadata": {
      "needs_background": "light"
     },
     "output_type": "display_data"
    },
    {
     "data": {
      "image/png": "[encoded data removed]",
      "text/plain": [
       "<Figure size 432x288 with 1 Axes>"
      ]
     },
     "metadata": {
      "needs_background": "light"
     },
     "output_type": "display_data"
    },
    {
     "data": {
      "image/png": "[encoded data removed]",
      "text/plain": [
       "<Figure size 432x288 with 1 Axes>"
      ]
     },
     "metadata": {
      "needs_background": "light"
     },
     "output_type": "display_data"
    }
   ],
   "source": [
    "#Let's look to see how the data is distributed:\n",
    "#There are columns that are right-skewed, and there are outliers with capital-gain, capital-loss, and fnlwgt:\n",
    "\n",
    "for column in cont_col:\n",
    "    df.hist(column= column)"
   ]
  },
  {
   "cell_type": "code",
   "execution_count": 12,
   "metadata": {},
   "outputs": [
    {
     "data": {
      "text/html": [
       "<div>\n",
       "<style scoped>\n",
       "    .dataframe tbody tr th:only-of-type {\n",
       "        vertical-align: middle;\n",
       "    }\n",
       "\n",
       "    .dataframe tbody tr th {\n",
       "        vertical-align: top;\n",
       "    }\n",
       "\n",
       "    .dataframe thead th {\n",
       "        text-align: right;\n",
       "    }\n",
       "</style>\n",
       "<table border=\"1\" class=\"dataframe\">\n",
       "  <thead>\n",
       "    <tr style=\"text-align: right;\">\n",
       "      <th></th>\n",
       "      <th>age</th>\n",
       "      <th>workclass</th>\n",
       "      <th>fnlwgt</th>\n",
       "      <th>education</th>\n",
       "      <th>education-num</th>\n",
       "      <th>marital-status</th>\n",
       "      <th>occupation</th>\n",
       "      <th>relationship</th>\n",
       "      <th>sex</th>\n",
       "      <th>capital-gain</th>\n",
       "      <th>capital-loss</th>\n",
       "      <th>hours-per-week</th>\n",
       "      <th>native-country</th>\n",
       "      <th>wage</th>\n",
       "    </tr>\n",
       "  </thead>\n",
       "  <tbody>\n",
       "    <tr>\n",
       "      <th>1986</th>\n",
       "      <td>66</td>\n",
       "      <td>?</td>\n",
       "      <td>186061</td>\n",
       "      <td>Some-college</td>\n",
       "      <td>10</td>\n",
       "      <td>Widowed</td>\n",
       "      <td>?</td>\n",
       "      <td>Unmarried</td>\n",
       "      <td>Female</td>\n",
       "      <td>0</td>\n",
       "      <td>4356</td>\n",
       "      <td>40</td>\n",
       "      <td>United-States</td>\n",
       "      <td>0</td>\n",
       "    </tr>\n",
       "    <tr>\n",
       "      <th>2619</th>\n",
       "      <td>38</td>\n",
       "      <td>Private</td>\n",
       "      <td>150601</td>\n",
       "      <td>10th</td>\n",
       "      <td>6</td>\n",
       "      <td>Separated</td>\n",
       "      <td>Adm-clerical</td>\n",
       "      <td>Unmarried</td>\n",
       "      <td>Male</td>\n",
       "      <td>0</td>\n",
       "      <td>3770</td>\n",
       "      <td>40</td>\n",
       "      <td>United-States</td>\n",
       "      <td>0</td>\n",
       "    </tr>\n",
       "  </tbody>\n",
       "</table>\n",
       "</div>"
      ],
      "text/plain": [
       "      age workclass  fnlwgt      education  education-num marital-status     occupation relationship      sex  capital-gain  capital-loss  hours-per-week  native-country  wage\n",
       "1986   66         ?  186061   Some-college             10        Widowed              ?    Unmarried   Female             0          4356              40   United-States     0\n",
       "2619   38   Private  150601           10th              6      Separated   Adm-clerical    Unmarried     Male             0          3770              40   United-States     0"
      ]
     },
     "execution_count": 12,
     "metadata": {},
     "output_type": "execute_result"
    }
   ],
   "source": [
    "df[df['capital-loss'] > 3000]"
   ]
  },
  {
   "cell_type": "code",
   "execution_count": 13,
   "metadata": {},
   "outputs": [
    {
     "data": {
      "text/html": [
       "<div>\n",
       "<style scoped>\n",
       "    .dataframe tbody tr th:only-of-type {\n",
       "        vertical-align: middle;\n",
       "    }\n",
       "\n",
       "    .dataframe tbody tr th {\n",
       "        vertical-align: top;\n",
       "    }\n",
       "\n",
       "    .dataframe thead th {\n",
       "        text-align: right;\n",
       "    }\n",
       "</style>\n",
       "<table border=\"1\" class=\"dataframe\">\n",
       "  <thead>\n",
       "    <tr style=\"text-align: right;\">\n",
       "      <th></th>\n",
       "      <th>age</th>\n",
       "      <th>workclass</th>\n",
       "      <th>fnlwgt</th>\n",
       "      <th>education</th>\n",
       "      <th>education-num</th>\n",
       "      <th>marital-status</th>\n",
       "      <th>occupation</th>\n",
       "      <th>relationship</th>\n",
       "      <th>sex</th>\n",
       "      <th>capital-gain</th>\n",
       "      <th>capital-loss</th>\n",
       "      <th>hours-per-week</th>\n",
       "      <th>native-country</th>\n",
       "      <th>wage</th>\n",
       "    </tr>\n",
       "  </thead>\n",
       "  <tbody>\n",
       "    <tr>\n",
       "      <th>450</th>\n",
       "      <td>34</td>\n",
       "      <td>Private</td>\n",
       "      <td>849857</td>\n",
       "      <td>HS-grad</td>\n",
       "      <td>9</td>\n",
       "      <td>Married-civ-spouse</td>\n",
       "      <td>Craft-repair</td>\n",
       "      <td>Husband</td>\n",
       "      <td>Male</td>\n",
       "      <td>0</td>\n",
       "      <td>0</td>\n",
       "      <td>40</td>\n",
       "      <td>Nicaragua</td>\n",
       "      <td>0</td>\n",
       "    </tr>\n",
       "    <tr>\n",
       "      <th>605</th>\n",
       "      <td>26</td>\n",
       "      <td>Private</td>\n",
       "      <td>917220</td>\n",
       "      <td>12th</td>\n",
       "      <td>8</td>\n",
       "      <td>Never-married</td>\n",
       "      <td>Transport-moving</td>\n",
       "      <td>Own-child</td>\n",
       "      <td>Male</td>\n",
       "      <td>0</td>\n",
       "      <td>0</td>\n",
       "      <td>40</td>\n",
       "      <td>United-States</td>\n",
       "      <td>0</td>\n",
       "    </tr>\n",
       "    <tr>\n",
       "      <th>1990</th>\n",
       "      <td>45</td>\n",
       "      <td>Private</td>\n",
       "      <td>1366120</td>\n",
       "      <td>Assoc-voc</td>\n",
       "      <td>11</td>\n",
       "      <td>Divorced</td>\n",
       "      <td>Other-service</td>\n",
       "      <td>Not-in-family</td>\n",
       "      <td>Female</td>\n",
       "      <td>0</td>\n",
       "      <td>0</td>\n",
       "      <td>8</td>\n",
       "      <td>United-States</td>\n",
       "      <td>0</td>\n",
       "    </tr>\n",
       "    <tr>\n",
       "      <th>3488</th>\n",
       "      <td>37</td>\n",
       "      <td>Private</td>\n",
       "      <td>910398</td>\n",
       "      <td>Bachelors</td>\n",
       "      <td>13</td>\n",
       "      <td>Never-married</td>\n",
       "      <td>Sales</td>\n",
       "      <td>Not-in-family</td>\n",
       "      <td>Female</td>\n",
       "      <td>0</td>\n",
       "      <td>0</td>\n",
       "      <td>40</td>\n",
       "      <td>United-States</td>\n",
       "      <td>0</td>\n",
       "    </tr>\n",
       "    <tr>\n",
       "      <th>3501</th>\n",
       "      <td>32</td>\n",
       "      <td>?</td>\n",
       "      <td>981628</td>\n",
       "      <td>HS-grad</td>\n",
       "      <td>9</td>\n",
       "      <td>Divorced</td>\n",
       "      <td>?</td>\n",
       "      <td>Unmarried</td>\n",
       "      <td>Male</td>\n",
       "      <td>0</td>\n",
       "      <td>0</td>\n",
       "      <td>40</td>\n",
       "      <td>United-States</td>\n",
       "      <td>0</td>\n",
       "    </tr>\n",
       "  </tbody>\n",
       "</table>\n",
       "</div>"
      ],
      "text/plain": [
       "      age workclass   fnlwgt   education  education-num       marital-status         occupation    relationship      sex  capital-gain  capital-loss  hours-per-week  native-country  wage\n",
       "450    34   Private   849857     HS-grad              9   Married-civ-spouse       Craft-repair         Husband     Male             0             0              40       Nicaragua     0\n",
       "605    26   Private   917220        12th              8        Never-married   Transport-moving       Own-child     Male             0             0              40   United-States     0\n",
       "1990   45   Private  1366120   Assoc-voc             11             Divorced      Other-service   Not-in-family   Female             0             0               8   United-States     0\n",
       "3488   37   Private   910398   Bachelors             13        Never-married              Sales   Not-in-family   Female             0             0              40   United-States     0\n",
       "3501   32         ?   981628     HS-grad              9             Divorced                  ?       Unmarried     Male             0             0              40   United-States     0"
      ]
     },
     "execution_count": 13,
     "metadata": {},
     "output_type": "execute_result"
    }
   ],
   "source": [
    "df[df['fnlwgt'] > 830000]"
   ]
  },
  {
   "cell_type": "code",
   "execution_count": 15,
   "metadata": {},
   "outputs": [
    {
     "data": {
      "text/plain": [
       "Int64Index([3282, 4080, 5230, 6282, 6368], dtype='int64')"
      ]
     },
     "execution_count": 15,
     "metadata": {},
     "output_type": "execute_result"
    }
   ],
   "source": [
    "#Looking through the data, it looks like the outliers are in the columns that have missing data.\n",
    "#We'll sort through the data where 'workclass', 'country', and 'occupation' are missing\n",
    "\n",
    "df[(df['workclass'] ==' ?')& (df['native-country'] ==' ?')& (df['occupation'] ==' ?')].index"
   ]
  },
  {
   "cell_type": "code",
   "execution_count": 16,
   "metadata": {},
   "outputs": [],
   "source": [
    "#Removing the above outliers:\n",
    "df = df.drop([1986, 2619, 450, 605, 1990, 3488, 3501])"
   ]
  },
  {
   "cell_type": "code",
   "execution_count": 17,
   "metadata": {},
   "outputs": [],
   "source": [
    "#Removing the outliers fixed some of the issues with our data, but can go even further by logging the age and fnlwgt columns to\n",
    "#ensure those columns are normally distributed as well:\n",
    "\n",
    "df['age'] = np.log(df['age'])\n",
    "df['fnlwgt'] = np.log(df['fnlwgt'])"
   ]
  },
  {
   "cell_type": "code",
   "execution_count": 18,
   "metadata": {},
   "outputs": [],
   "source": [
    "#Repeating the above for our prediction data:\n",
    "\n",
    "preds['age'] = np.log(preds['age'])\n",
    "preds['fnlwgt'] = np.log(preds['fnlwgt'])"
   ]
  },
  {
   "cell_type": "code",
   "execution_count": 20,
   "metadata": {},
   "outputs": [],
   "source": [
    "#Columns that are categorical data: marital-status, occupation, relationship, sex, native-country, workclass\n",
    "#At this stage, it's also prudent to drop education since it's essentially the same as education=num, and numerical\n",
    "#values will be much easier to work with than strings:\n",
    "\n",
    "df = df.drop(['education'], axis = 1)\n",
    "\n",
    "#Repeat the above for prediction data:\n",
    "preds = preds.drop(['education'], axis = 1)\n",
    "\n",
    "cat_col = ['workclass', 'marital-status', 'occupation', 'relationship', 'sex', 'native-country']"
   ]
  },
  {
   "cell_type": "code",
   "execution_count": 21,
   "metadata": {},
   "outputs": [
    {
     "name": "stdout",
     "output_type": "stream",
     "text": [
      "workclass [' Private' ' Federal-gov' ' Self-emp-not-inc' ' State-gov'\n",
      " ' Self-emp-inc' ' ?' ' Local-gov' ' Without-pay' ' Never-worked']\n",
      "marital-status [' Divorced' ' Married-civ-spouse' ' Never-married' ' Widowed'\n",
      " ' Separated' ' Married-spouse-absent' ' Married-AF-spouse']\n",
      "occupation [' Adm-clerical' ' Craft-repair' ' Sales' ' Other-service'\n",
      " ' Exec-managerial' ' Tech-support' ' Prof-specialty' ' Transport-moving'\n",
      " ' Handlers-cleaners' ' Farming-fishing' ' ?' ' Machine-op-inspct'\n",
      " ' Protective-serv' ' Priv-house-serv' ' Armed-Forces']\n",
      "relationship [' Not-in-family' ' Husband' ' Wife' ' Unmarried' ' Own-child'\n",
      " ' Other-relative']\n",
      "sex [' Male' ' Female']\n",
      "native-country [' United-States' ' Germany' ' Iran' ' Philippines' ' Mexico' ' India'\n",
      " ' ?' ' Canada' ' South' ' El-Salvador' ' England' ' Peru' ' Japan'\n",
      " ' France' ' Columbia' ' Cuba' ' Scotland' ' Vietnam' ' Hong' ' Jamaica'\n",
      " ' Puerto-Rico' ' Nicaragua' ' Italy' ' Dominican-Republic' ' Yugoslavia'\n",
      " ' Poland' ' Guatemala' ' China' ' Haiti' ' Outlying-US(Guam-USVI-etc)'\n",
      " ' Greece' ' Taiwan' ' Hungary' ' Portugal' ' Cambodia' ' Laos'\n",
      " ' Trinadad&Tobago' ' Ireland' ' Thailand' ' Ecuador' ' Honduras']\n"
     ]
    }
   ],
   "source": [
    "#Checking unique values in our categorical columns:\n",
    "\n",
    "for col in cat_col:\n",
    "    print (col, df[col].unique())"
   ]
  },
  {
   "cell_type": "code",
   "execution_count": 22,
   "metadata": {},
   "outputs": [],
   "source": [
    "#Let's dummify all our categorical columns:\n",
    "\n",
    "df = pd.get_dummies(df, columns = cat_col, drop_first = True)\n",
    "\n",
    "#Repeating for prediction data as well:\n",
    "preds = pd.get_dummies(preds, columns = cat_col, drop_first = True)"
   ]
  },
  {
   "cell_type": "code",
   "execution_count": 23,
   "metadata": {},
   "outputs": [
    {
     "data": {
      "text/plain": [
       "(6506, 81)"
      ]
     },
     "execution_count": 23,
     "metadata": {},
     "output_type": "execute_result"
    }
   ],
   "source": [
    "df.shape"
   ]
  },
  {
   "cell_type": "code",
   "execution_count": 24,
   "metadata": {},
   "outputs": [
    {
     "data": {
      "text/html": [
       "<div>\n",
       "<style scoped>\n",
       "    .dataframe tbody tr th:only-of-type {\n",
       "        vertical-align: middle;\n",
       "    }\n",
       "\n",
       "    .dataframe tbody tr th {\n",
       "        vertical-align: top;\n",
       "    }\n",
       "\n",
       "    .dataframe thead th {\n",
       "        text-align: right;\n",
       "    }\n",
       "</style>\n",
       "<table border=\"1\" class=\"dataframe\">\n",
       "  <thead>\n",
       "    <tr style=\"text-align: right;\">\n",
       "      <th></th>\n",
       "      <th>wage</th>\n",
       "    </tr>\n",
       "  </thead>\n",
       "  <tbody>\n",
       "    <tr>\n",
       "      <th>wage</th>\n",
       "      <td>1.000000</td>\n",
       "    </tr>\n",
       "    <tr>\n",
       "      <th>marital-status_ Married-civ-spouse</th>\n",
       "      <td>0.449058</td>\n",
       "    </tr>\n",
       "    <tr>\n",
       "      <th>education-num</th>\n",
       "      <td>0.323444</td>\n",
       "    </tr>\n",
       "    <tr>\n",
       "      <th>age</th>\n",
       "      <td>0.275111</td>\n",
       "    </tr>\n",
       "    <tr>\n",
       "      <th>hours-per-week</th>\n",
       "      <td>0.255036</td>\n",
       "    </tr>\n",
       "    <tr>\n",
       "      <th>sex_ Male</th>\n",
       "      <td>0.229343</td>\n",
       "    </tr>\n",
       "    <tr>\n",
       "      <th>occupation_ Exec-managerial</th>\n",
       "      <td>0.227241</td>\n",
       "    </tr>\n",
       "    <tr>\n",
       "      <th>capital-gain</th>\n",
       "      <td>0.221318</td>\n",
       "    </tr>\n",
       "    <tr>\n",
       "      <th>occupation_ Prof-specialty</th>\n",
       "      <td>0.181716</td>\n",
       "    </tr>\n",
       "    <tr>\n",
       "      <th>workclass_ Self-emp-inc</th>\n",
       "      <td>0.154931</td>\n",
       "    </tr>\n",
       "    <tr>\n",
       "      <th>capital-loss</th>\n",
       "      <td>0.139872</td>\n",
       "    </tr>\n",
       "    <tr>\n",
       "      <th>relationship_ Wife</th>\n",
       "      <td>0.101727</td>\n",
       "    </tr>\n",
       "    <tr>\n",
       "      <th>workclass_ Federal-gov</th>\n",
       "      <td>0.043758</td>\n",
       "    </tr>\n",
       "    <tr>\n",
       "      <th>native-country_ India</th>\n",
       "      <td>0.041554</td>\n",
       "    </tr>\n",
       "    <tr>\n",
       "      <th>workclass_ Self-emp-not-inc</th>\n",
       "      <td>0.032979</td>\n",
       "    </tr>\n",
       "    <tr>\n",
       "      <th>native-country_ Taiwan</th>\n",
       "      <td>0.032933</td>\n",
       "    </tr>\n",
       "    <tr>\n",
       "      <th>native-country_ Iran</th>\n",
       "      <td>0.032933</td>\n",
       "    </tr>\n",
       "    <tr>\n",
       "      <th>native-country_ United-States</th>\n",
       "      <td>0.028801</td>\n",
       "    </tr>\n",
       "    <tr>\n",
       "      <th>native-country_ Japan</th>\n",
       "      <td>0.026031</td>\n",
       "    </tr>\n",
       "    <tr>\n",
       "      <th>native-country_ Philippines</th>\n",
       "      <td>0.025000</td>\n",
       "    </tr>\n",
       "  </tbody>\n",
       "</table>\n",
       "</div>"
      ],
      "text/plain": [
       "                                        wage\n",
       "wage                                1.000000\n",
       "marital-status_ Married-civ-spouse  0.449058\n",
       "education-num                       0.323444\n",
       "age                                 0.275111\n",
       "hours-per-week                      0.255036\n",
       "sex_ Male                           0.229343\n",
       "occupation_ Exec-managerial         0.227241\n",
       "capital-gain                        0.221318\n",
       "occupation_ Prof-specialty          0.181716\n",
       "workclass_ Self-emp-inc             0.154931\n",
       "capital-loss                        0.139872\n",
       "relationship_ Wife                  0.101727\n",
       "workclass_ Federal-gov              0.043758\n",
       "native-country_ India               0.041554\n",
       "workclass_ Self-emp-not-inc         0.032979\n",
       "native-country_ Taiwan              0.032933\n",
       "native-country_ Iran                0.032933\n",
       "native-country_ United-States       0.028801\n",
       "native-country_ Japan               0.026031\n",
       "native-country_ Philippines         0.025000"
      ]
     },
     "execution_count": 24,
     "metadata": {},
     "output_type": "execute_result"
    }
   ],
   "source": [
    "#Let's look at correlations, to see what effects wage most:\n",
    "\n",
    "df.corr()[['wage']].sort_values('wage', ascending = False).head(20)"
   ]
  },
  {
   "cell_type": "code",
   "execution_count": 25,
   "metadata": {},
   "outputs": [
    {
     "name": "stdout",
     "output_type": "stream",
     "text": [
      "Stored 'df' (DataFrame)\n",
      "Stored 'preds' (DataFrame)\n"
     ]
    }
   ],
   "source": [
    "#Storing this data so that we can pull it up easier for future sheets:\n",
    "\n",
    "%store df\n",
    "%store preds"
   ]
  }
 ],
 "metadata": {
  "kernelspec": {
   "display_name": "Python 3",
   "language": "python",
   "name": "python3"
  },
  "language_info": {
   "codemirror_mode": {
    "name": "ipython",
    "version": 3
   },
   "file_extension": ".py",
   "mimetype": "text/x-python",
   "name": "python",
   "nbconvert_exporter": "python",
   "pygments_lexer": "ipython3",
   "version": "3.7.6"
  }
 },
 "nbformat": 4,
 "nbformat_minor": 4
}
